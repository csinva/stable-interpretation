{
 "cells": [
  {
   "cell_type": "markdown",
   "metadata": {},
   "source": [
    "## Causal Discovery and Interpretation\n",
    "\n",
    "In this notebook, we \n",
    "\n",
    "* Preprocess the CUB_200_2011 Dataset consisting of ~11,000 images of birds and their species. Currently, we omit analyzing images\n",
    "\n",
    "* Perform a Rudimentary Sanity Check: See if Causal Discovery methods such as PC identify a correct Causal Graph of a linear model over our system: namely that *Y* is a sink"
   ]
  },
  {
   "cell_type": "markdown",
   "metadata": {},
   "source": [
    "### Processing the Data"
   ]
  },
  {
   "cell_type": "code",
   "execution_count": null,
   "metadata": {},
   "outputs": [],
   "source": [
    "import numpy as np\n",
    "import numpy.random as npr\n",
    "import pandas as pd\n",
    "import seaborn as sns\n",
    "import matplotlib.pyplot as plt\n",
    "\n",
    "## Modeling Imports\n",
    "import statsmodels.api as sm\n",
    "from sklearn.ensemble import RandomForestClassifier\n",
    "\n",
    "# Adding some feature selection\n",
    "from sklearn.svm import LinearSVC\n",
    "from sklearn.feature_selection import SelectFromModel\n",
    "\n",
    "# Causal Discovery Imports\n",
    "import pydot\n",
    "from pycausal import search as s # See install instructions here: https://github.com/bd2kccd/py-causal\n",
    "\n",
    "from pycausal.pycausal import pycausal as pc\n",
    "pc = pc()\n",
    "pc.start_vm() # Start Java vm"
   ]
  },
  {
   "cell_type": "code",
   "execution_count": null,
   "metadata": {},
   "outputs": [],
   "source": [
    "## Load in the Files\n",
    "data_dir = \"../data/CUB_200_2011_no_images/\"\n",
    "attrs = pd.read_csv(data_dir + \"CUB_200_2011/attributes/image_attribute_labels.txt\", sep = \" \",\n",
    "                    header=None,\n",
    "                   names = [\"image_id\", \"attr_id\", \"is_present\", \"certainty_id\", \"time\"], \n",
    "                   error_bad_lines=False) # Two images read incorrectly, we go on\n",
    "\n",
    "# Transform attr dataframe with no regard for certainty\n",
    "X = attrs[[\"image_id\", \"attr_id\",\"is_present\"]].pivot(index=\"image_id\", columns=\"attr_id\", values=\"is_present\")\n",
    "\n",
    "X = X.reset_index().fillna(0)\n",
    "\n",
    "# Let's get the Y\n",
    "Y = pd.read_csv(data_dir + \"CUB_200_2011/image_class_labels.txt\", header=None, \n",
    "               names=[\"image_id\", \"class\"], sep=\" \")\n",
    "\n",
    "# Combine and Separate to Ensure Same labels\n",
    "full_df = X.merge(Y, on=\"image_id\", how=\"inner\")\n",
    "\n",
    "X = full_df.drop([\"image_id\", \"class\"], axis=1)\n",
    "Y = full_df[\"class\"]"
   ]
  },
  {
   "cell_type": "markdown",
   "metadata": {},
   "source": [
    "### Running Causal Discovery + Modeling"
   ]
  },
  {
   "cell_type": "code",
   "execution_count": 5,
   "metadata": {},
   "outputs": [
    {
     "name": "stderr",
     "output_type": "stream",
     "text": [
      "<ipython-input-5-4908d4a7e081>:26: FutureWarning: Using a non-tuple sequence for multidimensional indexing is deprecated; use `arr[tuple(seq)]` instead of `arr[seq]`. In the future this will be interpreted as an array index, `arr[np.array(seq)]`, which will result either in an error or a different result.\n",
      "  Y_train_onehot[[range(0, len(Y_train)), onehot_idx]] = 1\n"
     ]
    },
    {
     "name": "stdout",
     "output_type": "stream",
     "text": [
      "Starting Tetrad FCI for run 0\n",
      "Finished Tetrad FCI\n"
     ]
    },
    {
     "name": "stderr",
     "output_type": "stream",
     "text": [
      "<ipython-input-5-4908d4a7e081>:26: FutureWarning: Using a non-tuple sequence for multidimensional indexing is deprecated; use `arr[tuple(seq)]` instead of `arr[seq]`. In the future this will be interpreted as an array index, `arr[np.array(seq)]`, which will result either in an error or a different result.\n",
      "  Y_train_onehot[[range(0, len(Y_train)), onehot_idx]] = 1\n"
     ]
    },
    {
     "name": "stdout",
     "output_type": "stream",
     "text": [
      "Starting Tetrad FCI for run 1\n",
      "Finished Tetrad FCI\n"
     ]
    },
    {
     "name": "stderr",
     "output_type": "stream",
     "text": [
      "<ipython-input-5-4908d4a7e081>:26: FutureWarning: Using a non-tuple sequence for multidimensional indexing is deprecated; use `arr[tuple(seq)]` instead of `arr[seq]`. In the future this will be interpreted as an array index, `arr[np.array(seq)]`, which will result either in an error or a different result.\n",
      "  Y_train_onehot[[range(0, len(Y_train)), onehot_idx]] = 1\n"
     ]
    },
    {
     "name": "stdout",
     "output_type": "stream",
     "text": [
      "Starting Tetrad FCI for run 2\n",
      "Finished Tetrad FCI\n"
     ]
    },
    {
     "name": "stderr",
     "output_type": "stream",
     "text": [
      "<ipython-input-5-4908d4a7e081>:26: FutureWarning: Using a non-tuple sequence for multidimensional indexing is deprecated; use `arr[tuple(seq)]` instead of `arr[seq]`. In the future this will be interpreted as an array index, `arr[np.array(seq)]`, which will result either in an error or a different result.\n",
      "  Y_train_onehot[[range(0, len(Y_train)), onehot_idx]] = 1\n"
     ]
    },
    {
     "name": "stdout",
     "output_type": "stream",
     "text": [
      "Starting Tetrad FCI for run 3\n",
      "Finished Tetrad FCI\n"
     ]
    },
    {
     "name": "stderr",
     "output_type": "stream",
     "text": [
      "<ipython-input-5-4908d4a7e081>:26: FutureWarning: Using a non-tuple sequence for multidimensional indexing is deprecated; use `arr[tuple(seq)]` instead of `arr[seq]`. In the future this will be interpreted as an array index, `arr[np.array(seq)]`, which will result either in an error or a different result.\n",
      "  Y_train_onehot[[range(0, len(Y_train)), onehot_idx]] = 1\n"
     ]
    },
    {
     "name": "stdout",
     "output_type": "stream",
     "text": [
      "Starting Tetrad FCI for run 4\n",
      "Finished Tetrad FCI\n"
     ]
    },
    {
     "name": "stderr",
     "output_type": "stream",
     "text": [
      "<ipython-input-5-4908d4a7e081>:26: FutureWarning: Using a non-tuple sequence for multidimensional indexing is deprecated; use `arr[tuple(seq)]` instead of `arr[seq]`. In the future this will be interpreted as an array index, `arr[np.array(seq)]`, which will result either in an error or a different result.\n",
      "  Y_train_onehot[[range(0, len(Y_train)), onehot_idx]] = 1\n"
     ]
    },
    {
     "name": "stdout",
     "output_type": "stream",
     "text": [
      "Starting Tetrad FCI for run 5\n",
      "Finished Tetrad FCI\n"
     ]
    },
    {
     "name": "stderr",
     "output_type": "stream",
     "text": [
      "<ipython-input-5-4908d4a7e081>:26: FutureWarning: Using a non-tuple sequence for multidimensional indexing is deprecated; use `arr[tuple(seq)]` instead of `arr[seq]`. In the future this will be interpreted as an array index, `arr[np.array(seq)]`, which will result either in an error or a different result.\n",
      "  Y_train_onehot[[range(0, len(Y_train)), onehot_idx]] = 1\n"
     ]
    },
    {
     "name": "stdout",
     "output_type": "stream",
     "text": [
      "Starting Tetrad FCI for run 6\n",
      "Finished Tetrad FCI\n"
     ]
    },
    {
     "name": "stderr",
     "output_type": "stream",
     "text": [
      "<ipython-input-5-4908d4a7e081>:26: FutureWarning: Using a non-tuple sequence for multidimensional indexing is deprecated; use `arr[tuple(seq)]` instead of `arr[seq]`. In the future this will be interpreted as an array index, `arr[np.array(seq)]`, which will result either in an error or a different result.\n",
      "  Y_train_onehot[[range(0, len(Y_train)), onehot_idx]] = 1\n"
     ]
    },
    {
     "name": "stdout",
     "output_type": "stream",
     "text": [
      "Starting Tetrad FCI for run 7\n",
      "Finished Tetrad FCI\n"
     ]
    },
    {
     "name": "stderr",
     "output_type": "stream",
     "text": [
      "<ipython-input-5-4908d4a7e081>:26: FutureWarning: Using a non-tuple sequence for multidimensional indexing is deprecated; use `arr[tuple(seq)]` instead of `arr[seq]`. In the future this will be interpreted as an array index, `arr[np.array(seq)]`, which will result either in an error or a different result.\n",
      "  Y_train_onehot[[range(0, len(Y_train)), onehot_idx]] = 1\n"
     ]
    },
    {
     "name": "stdout",
     "output_type": "stream",
     "text": [
      "Starting Tetrad FCI for run 8\n",
      "Finished Tetrad FCI\n"
     ]
    },
    {
     "name": "stderr",
     "output_type": "stream",
     "text": [
      "<ipython-input-5-4908d4a7e081>:26: FutureWarning: Using a non-tuple sequence for multidimensional indexing is deprecated; use `arr[tuple(seq)]` instead of `arr[seq]`. In the future this will be interpreted as an array index, `arr[np.array(seq)]`, which will result either in an error or a different result.\n",
      "  Y_train_onehot[[range(0, len(Y_train)), onehot_idx]] = 1\n"
     ]
    },
    {
     "name": "stdout",
     "output_type": "stream",
     "text": [
      "Starting Tetrad FCI for run 9\n",
      "Finished Tetrad FCI\n"
     ]
    },
    {
     "name": "stderr",
     "output_type": "stream",
     "text": [
      "<ipython-input-5-4908d4a7e081>:26: FutureWarning: Using a non-tuple sequence for multidimensional indexing is deprecated; use `arr[tuple(seq)]` instead of `arr[seq]`. In the future this will be interpreted as an array index, `arr[np.array(seq)]`, which will result either in an error or a different result.\n",
      "  Y_train_onehot[[range(0, len(Y_train)), onehot_idx]] = 1\n"
     ]
    },
    {
     "name": "stdout",
     "output_type": "stream",
     "text": [
      "Starting Tetrad FCI for run 10\n",
      "Finished Tetrad FCI\n"
     ]
    },
    {
     "name": "stderr",
     "output_type": "stream",
     "text": [
      "<ipython-input-5-4908d4a7e081>:26: FutureWarning: Using a non-tuple sequence for multidimensional indexing is deprecated; use `arr[tuple(seq)]` instead of `arr[seq]`. In the future this will be interpreted as an array index, `arr[np.array(seq)]`, which will result either in an error or a different result.\n",
      "  Y_train_onehot[[range(0, len(Y_train)), onehot_idx]] = 1\n"
     ]
    },
    {
     "name": "stdout",
     "output_type": "stream",
     "text": [
      "Starting Tetrad FCI for run 11\n",
      "Finished Tetrad FCI\n"
     ]
    },
    {
     "name": "stderr",
     "output_type": "stream",
     "text": [
      "<ipython-input-5-4908d4a7e081>:26: FutureWarning: Using a non-tuple sequence for multidimensional indexing is deprecated; use `arr[tuple(seq)]` instead of `arr[seq]`. In the future this will be interpreted as an array index, `arr[np.array(seq)]`, which will result either in an error or a different result.\n",
      "  Y_train_onehot[[range(0, len(Y_train)), onehot_idx]] = 1\n"
     ]
    },
    {
     "name": "stdout",
     "output_type": "stream",
     "text": [
      "Starting Tetrad FCI for run 12\n",
      "Finished Tetrad FCI\n"
     ]
    },
    {
     "name": "stderr",
     "output_type": "stream",
     "text": [
      "<ipython-input-5-4908d4a7e081>:26: FutureWarning: Using a non-tuple sequence for multidimensional indexing is deprecated; use `arr[tuple(seq)]` instead of `arr[seq]`. In the future this will be interpreted as an array index, `arr[np.array(seq)]`, which will result either in an error or a different result.\n",
      "  Y_train_onehot[[range(0, len(Y_train)), onehot_idx]] = 1\n"
     ]
    },
    {
     "name": "stdout",
     "output_type": "stream",
     "text": [
      "Starting Tetrad FCI for run 13\n",
      "Finished Tetrad FCI\n"
     ]
    },
    {
     "name": "stderr",
     "output_type": "stream",
     "text": [
      "<ipython-input-5-4908d4a7e081>:26: FutureWarning: Using a non-tuple sequence for multidimensional indexing is deprecated; use `arr[tuple(seq)]` instead of `arr[seq]`. In the future this will be interpreted as an array index, `arr[np.array(seq)]`, which will result either in an error or a different result.\n",
      "  Y_train_onehot[[range(0, len(Y_train)), onehot_idx]] = 1\n"
     ]
    },
    {
     "name": "stdout",
     "output_type": "stream",
     "text": [
      "Starting Tetrad FCI for run 14\n",
      "Finished Tetrad FCI\n"
     ]
    },
    {
     "name": "stderr",
     "output_type": "stream",
     "text": [
      "<ipython-input-5-4908d4a7e081>:26: FutureWarning: Using a non-tuple sequence for multidimensional indexing is deprecated; use `arr[tuple(seq)]` instead of `arr[seq]`. In the future this will be interpreted as an array index, `arr[np.array(seq)]`, which will result either in an error or a different result.\n",
      "  Y_train_onehot[[range(0, len(Y_train)), onehot_idx]] = 1\n"
     ]
    },
    {
     "name": "stdout",
     "output_type": "stream",
     "text": [
      "Starting Tetrad FCI for run 15\n",
      "Finished Tetrad FCI\n"
     ]
    },
    {
     "name": "stderr",
     "output_type": "stream",
     "text": [
      "<ipython-input-5-4908d4a7e081>:26: FutureWarning: Using a non-tuple sequence for multidimensional indexing is deprecated; use `arr[tuple(seq)]` instead of `arr[seq]`. In the future this will be interpreted as an array index, `arr[np.array(seq)]`, which will result either in an error or a different result.\n",
      "  Y_train_onehot[[range(0, len(Y_train)), onehot_idx]] = 1\n"
     ]
    },
    {
     "name": "stdout",
     "output_type": "stream",
     "text": [
      "Starting Tetrad FCI for run 16\n",
      "Finished Tetrad FCI\n"
     ]
    },
    {
     "name": "stderr",
     "output_type": "stream",
     "text": [
      "<ipython-input-5-4908d4a7e081>:26: FutureWarning: Using a non-tuple sequence for multidimensional indexing is deprecated; use `arr[tuple(seq)]` instead of `arr[seq]`. In the future this will be interpreted as an array index, `arr[np.array(seq)]`, which will result either in an error or a different result.\n",
      "  Y_train_onehot[[range(0, len(Y_train)), onehot_idx]] = 1\n"
     ]
    },
    {
     "name": "stdout",
     "output_type": "stream",
     "text": [
      "Starting Tetrad FCI for run 17\n",
      "Finished Tetrad FCI\n"
     ]
    },
    {
     "name": "stderr",
     "output_type": "stream",
     "text": [
      "<ipython-input-5-4908d4a7e081>:26: FutureWarning: Using a non-tuple sequence for multidimensional indexing is deprecated; use `arr[tuple(seq)]` instead of `arr[seq]`. In the future this will be interpreted as an array index, `arr[np.array(seq)]`, which will result either in an error or a different result.\n",
      "  Y_train_onehot[[range(0, len(Y_train)), onehot_idx]] = 1\n"
     ]
    },
    {
     "name": "stdout",
     "output_type": "stream",
     "text": [
      "Starting Tetrad FCI for run 18\n",
      "Finished Tetrad FCI\n"
     ]
    },
    {
     "name": "stderr",
     "output_type": "stream",
     "text": [
      "<ipython-input-5-4908d4a7e081>:26: FutureWarning: Using a non-tuple sequence for multidimensional indexing is deprecated; use `arr[tuple(seq)]` instead of `arr[seq]`. In the future this will be interpreted as an array index, `arr[np.array(seq)]`, which will result either in an error or a different result.\n",
      "  Y_train_onehot[[range(0, len(Y_train)), onehot_idx]] = 1\n"
     ]
    },
    {
     "name": "stdout",
     "output_type": "stream",
     "text": [
      "Starting Tetrad FCI for run 19\n",
      "Finished Tetrad FCI\n"
     ]
    }
   ],
   "source": [
    "# Experiment: Sample Data, train graph, count how many times Yhat is a sink node\n",
    "# See this Jupyter Notebook for Tetrad Instructions: \n",
    "#     https://github.com/bd2kccd/py-causal/blob/development/example/py-causal%20-%20FCI%20in%20Action.ipynb\n",
    "\n",
    "\n",
    "runs = 20\n",
    "size = len(X) # Size of Bootstrap Sample\n",
    "sparse = True\n",
    "edges = []\n",
    "for run in range(0, runs):\n",
    "    # Init Tetrad\n",
    "    tetrad = s.tetradrunner()\n",
    "    \n",
    "    \n",
    "    # Bootstrap data\n",
    "    idx = npr.choice(len(X), size=size, replace=True)\n",
    "    \n",
    "    X_train_pre = X.iloc[idx]\n",
    "    Y_train = Y.iloc[idx]\n",
    "    \n",
    "    \n",
    "#     # One Hot Encode Y_Train\n",
    "#     onehot_idx = (Y_train - 1).reset_index().values[:, 1]\n",
    "    \n",
    "#     Y_train_onehot = np.zeros((len(X_train_pre), Y_train.max()))\n",
    "#     Y_train_onehot[[range(0, len(Y_train)), onehot_idx]] = 1\n",
    "    \n",
    "    X_train_pre = sm.add_constant(X_train_pre)\n",
    "\n",
    "    # If sparse is true, do some feature selection\n",
    "    if sparse:\n",
    "        lsvc = LinearSVC(C=0.01, penalty=\"l1\", dual=False).fit(X_train_pre, Y_train)\n",
    "        model_fs = SelectFromModel(lsvc, prefit=True, threshold=\"0.5*mean\")\n",
    "        X_train = model_fs.transform(X_train_pre)\n",
    "    else:\n",
    "        X_train = X_train_pre\n",
    "        \n",
    "\n",
    "    model = RandomForestClassifier(max_depth=2, random_state=0)\n",
    "    model.fit(X_train, Y_train)\n",
    "    \n",
    "    Y_hat = model.predict(X_train)\n",
    "    \n",
    "#     preds = np.argmax(Y_hat, axis=1) # Line is for one_hot encoding for OLS\n",
    "\n",
    "    X_train = pd.DataFrame(X_train)\n",
    "    X_train[\"Y_hat\"] = Y_hat\n",
    "    \n",
    "    print(\"Starting Tetrad FCI for run %s\" % run)\n",
    "    # Perform fci to recover a causal graph\n",
    "    tetrad.run(algoId = 'fci', dfs = X_train, testId = 'fisher-z-test', \n",
    "           depth = -1, maxPathLength = -1, \n",
    "           completeRuleSetUsed = True, verbose = True) # set completeRuleSetUsed to false to get PAG\n",
    "    \n",
    "    print(\"Finished Tetrad FCI\")\n",
    "    \n",
    "    edges.append([edge for edge in tetrad.getEdges() if \"Y_hat o->\" in edge])"
   ]
  },
  {
   "cell_type": "code",
   "execution_count": 6,
   "metadata": {},
   "outputs": [
    {
     "data": {
      "text/plain": [
       "[['Y_hat o-> 0'],\n",
       " ['Y_hat o-> 0'],\n",
       " ['Y_hat o-> 0'],\n",
       " ['Y_hat o-> 0'],\n",
       " ['Y_hat o-> 0'],\n",
       " ['Y_hat o-> 0'],\n",
       " ['Y_hat o-> 0'],\n",
       " ['Y_hat o-> 0'],\n",
       " ['Y_hat o-> 0'],\n",
       " ['Y_hat o-> 0'],\n",
       " ['Y_hat o-> 0'],\n",
       " ['Y_hat o-> 0'],\n",
       " ['Y_hat o-> 0'],\n",
       " ['Y_hat o-> 0'],\n",
       " ['Y_hat o-> 0'],\n",
       " ['Y_hat o-> 0'],\n",
       " ['Y_hat o-> 0'],\n",
       " ['Y_hat o-> 0'],\n",
       " ['Y_hat o-> 0'],\n",
       " ['Y_hat o-> 0']]"
      ]
     },
     "execution_count": 6,
     "metadata": {},
     "output_type": "execute_result"
    }
   ],
   "source": [
    "edges"
   ]
  },
  {
   "cell_type": "code",
   "execution_count": 7,
   "metadata": {},
   "outputs": [
    {
     "name": "stdout",
     "output_type": "stream",
     "text": [
      "13 <-> Y_hat\n",
      "11 o-> Y_hat\n",
      "14 o-> Y_hat\n",
      "1 <-> Y_hat\n",
      "2 <-> Y_hat\n",
      "Y_hat o-> 0\n",
      "5 <-> Y_hat\n",
      "Y_hat <-> 6\n",
      "3 <-> Y_hat\n",
      "9 <-> Y_hat\n",
      "7 <-> Y_hat\n",
      "8 o-> Y_hat\n"
     ]
    }
   ],
   "source": [
    "for edge in tetrad.getEdges():\n",
    "    if \"Y_hat\" in edge:\n",
    "        print(edge)"
   ]
  },
  {
   "cell_type": "code",
   "execution_count": 8,
   "metadata": {},
   "outputs": [
    {
     "data": {
      "image/svg+xml": [
       "<svg xmlns=\"http://www.w3.org/2000/svg\" xmlns:xlink=\"http://www.w3.org/1999/xlink\" width=\"876pt\" height=\"548pt\" viewBox=\"0.00 0.00 876.00 548.00\">\n",
       "<g id=\"graph0\" class=\"graph\" transform=\"scale(1 1) rotate(0) translate(4 544)\">\n",
       "<title>g</title>\n",
       "<polygon fill=\"white\" stroke=\"transparent\" points=\"-4,4 -4,-544 872,-544 872,4 -4,4\"/>\n",
       "<!-- 10 -->\n",
       "<g id=\"node1\" class=\"node\">\n",
       "<title>10</title>\n",
       "<ellipse fill=\"none\" stroke=\"black\" cx=\"197\" cy=\"-450\" rx=\"27\" ry=\"18\"/>\n",
       "<text text-anchor=\"middle\" x=\"197\" y=\"-446.3\" font-family=\"Times,serif\" font-size=\"14.00\">10</text>\n",
       "</g>\n",
       "<!-- 11 -->\n",
       "<g id=\"node2\" class=\"node\">\n",
       "<title>11</title>\n",
       "<ellipse fill=\"none\" stroke=\"black\" cx=\"55\" cy=\"-378\" rx=\"27\" ry=\"18\"/>\n",
       "<text text-anchor=\"middle\" x=\"55\" y=\"-374.3\" font-family=\"Times,serif\" font-size=\"14.00\">11</text>\n",
       "</g>\n",
       "<!-- 10&#45;&gt;11 -->\n",
       "<g id=\"edge1\" class=\"edge\">\n",
       "<title>10-&gt;11</title>\n",
       "<path fill=\"none\" stroke=\"black\" d=\"M166.68,-434.05C142.19,-421.98 107.94,-405.1 83.84,-393.22\"/>\n",
       "<polygon fill=\"black\" stroke=\"black\" points=\"165.22,-437.24 175.74,-438.52 168.32,-430.96 165.22,-437.24\"/>\n",
       "<ellipse fill=\"none\" stroke=\"black\" cx=\"79.99\" cy=\"-391.32\" rx=\"4\" ry=\"4\"/>\n",
       "</g>\n",
       "<!-- 12 -->\n",
       "<g id=\"node3\" class=\"node\">\n",
       "<title>12</title>\n",
       "<ellipse fill=\"none\" stroke=\"black\" cx=\"482\" cy=\"-378\" rx=\"27\" ry=\"18\"/>\n",
       "<text text-anchor=\"middle\" x=\"482\" y=\"-374.3\" font-family=\"Times,serif\" font-size=\"14.00\">12</text>\n",
       "</g>\n",
       "<!-- 10&#45;&gt;12 -->\n",
       "<g id=\"edge2\" class=\"edge\">\n",
       "<title>10-&gt;12</title>\n",
       "<path fill=\"none\" stroke=\"black\" d=\"M232.18,-440.36C287.11,-426.87 392.61,-400.96 447.26,-387.53\"/>\n",
       "<polygon fill=\"black\" stroke=\"black\" points=\"231.17,-437 222.29,-442.79 232.84,-443.8 231.17,-437\"/>\n",
       "<polygon fill=\"black\" stroke=\"black\" points=\"448.3,-390.88 457.17,-385.1 446.63,-384.08 448.3,-390.88\"/>\n",
       "</g>\n",
       "<!-- 14 -->\n",
       "<g id=\"node4\" class=\"node\">\n",
       "<title>14</title>\n",
       "<ellipse fill=\"none\" stroke=\"black\" cx=\"131\" cy=\"-306\" rx=\"27\" ry=\"18\"/>\n",
       "<text text-anchor=\"middle\" x=\"131\" y=\"-302.3\" font-family=\"Times,serif\" font-size=\"14.00\">14</text>\n",
       "</g>\n",
       "<!-- 10&#45;&gt;14 -->\n",
       "<g id=\"edge3\" class=\"edge\">\n",
       "<title>10-&gt;14</title>\n",
       "<path fill=\"none\" stroke=\"black\" d=\"M184.73,-423.12C180.67,-414.5 176.12,-404.84 172,-396 161.78,-374.07 150.26,-349.04 142.04,-331.12\"/>\n",
       "<polygon fill=\"black\" stroke=\"black\" points=\"181.64,-424.76 189.08,-432.31 187.97,-421.77 181.64,-424.76\"/>\n",
       "<ellipse fill=\"none\" stroke=\"black\" cx=\"140.18\" cy=\"-327.06\" rx=\"4\" ry=\"4\"/>\n",
       "</g>\n",
       "<!-- 4 -->\n",
       "<g id=\"node9\" class=\"node\">\n",
       "<title>4</title>\n",
       "<ellipse fill=\"none\" stroke=\"black\" cx=\"376\" cy=\"-162\" rx=\"27\" ry=\"18\"/>\n",
       "<text text-anchor=\"middle\" x=\"376\" y=\"-158.3\" font-family=\"Times,serif\" font-size=\"14.00\">4</text>\n",
       "</g>\n",
       "<!-- 10&#45;&gt;4 -->\n",
       "<g id=\"edge14\" class=\"edge\">\n",
       "<title>10-&gt;4</title>\n",
       "<path fill=\"none\" stroke=\"black\" d=\"M208.76,-423.27C223.96,-390.85 251.92,-333.84 281,-288 304.64,-250.74 336.38,-210.61 356.52,-186.14\"/>\n",
       "<polygon fill=\"black\" stroke=\"black\" points=\"205.51,-421.96 204.47,-432.5 211.86,-424.91 205.51,-421.96\"/>\n",
       "<polygon fill=\"black\" stroke=\"black\" points=\"359.43,-188.11 363.12,-178.17 354.05,-183.64 359.43,-188.11\"/>\n",
       "</g>\n",
       "<!-- 5 -->\n",
       "<g id=\"node11\" class=\"node\">\n",
       "<title>5</title>\n",
       "<ellipse fill=\"none\" stroke=\"black\" cx=\"186\" cy=\"-234\" rx=\"27\" ry=\"18\"/>\n",
       "<text text-anchor=\"middle\" x=\"186\" y=\"-230.3\" font-family=\"Times,serif\" font-size=\"14.00\">5</text>\n",
       "</g>\n",
       "<!-- 10&#45;&gt;5 -->\n",
       "<g id=\"edge16\" class=\"edge\">\n",
       "<title>10-&gt;5</title>\n",
       "<path fill=\"none\" stroke=\"black\" d=\"M195.6,-421.71C193.49,-380.65 189.52,-303.42 187.4,-262.33\"/>\n",
       "<polygon fill=\"black\" stroke=\"black\" points=\"192.11,-422.04 196.12,-431.85 199.1,-421.68 192.11,-422.04\"/>\n",
       "<polygon fill=\"black\" stroke=\"black\" points=\"190.89,-262.04 186.89,-252.23 183.9,-262.4 190.89,-262.04\"/>\n",
       "</g>\n",
       "<!-- Y_hat -->\n",
       "<g id=\"node6\" class=\"node\">\n",
       "<title>Y_hat</title>\n",
       "<ellipse fill=\"none\" stroke=\"black\" cx=\"458\" cy=\"-18\" rx=\"36.29\" ry=\"18\"/>\n",
       "<text text-anchor=\"middle\" x=\"458\" y=\"-14.3\" font-family=\"Times,serif\" font-size=\"14.00\">Y_hat</text>\n",
       "</g>\n",
       "<!-- 11&#45;&gt;Y_hat -->\n",
       "<g id=\"edge6\" class=\"edge\">\n",
       "<title>11-&gt;Y_hat</title>\n",
       "<path fill=\"none\" stroke=\"black\" d=\"M57.85,-351.82C60.8,-323.46 65,-275.99 65,-235 65,-235 65,-235 65,-161 65,-100.5 113.44,-98.13 168,-72 247.69,-33.83 351.78,-23.04 411.12,-20.06\"/>\n",
       "<ellipse fill=\"none\" stroke=\"black\" cx=\"57.4\" cy=\"-356\" rx=\"4\" ry=\"4\"/>\n",
       "<polygon fill=\"black\" stroke=\"black\" points=\"411.48,-23.55 421.31,-19.6 411.16,-16.55 411.48,-23.55\"/>\n",
       "</g>\n",
       "<!-- 13 -->\n",
       "<g id=\"node5\" class=\"node\">\n",
       "<title>13</title>\n",
       "<ellipse fill=\"none\" stroke=\"black\" cx=\"317\" cy=\"-306\" rx=\"27\" ry=\"18\"/>\n",
       "<text text-anchor=\"middle\" x=\"317\" y=\"-302.3\" font-family=\"Times,serif\" font-size=\"14.00\">13</text>\n",
       "</g>\n",
       "<!-- 12&#45;&gt;13 -->\n",
       "<g id=\"edge4\" class=\"edge\">\n",
       "<title>12-&gt;13</title>\n",
       "<path fill=\"none\" stroke=\"black\" d=\"M450.23,-363.52C420.93,-351.09 377.69,-332.75 348.49,-320.36\"/>\n",
       "<polygon fill=\"black\" stroke=\"black\" points=\"449.17,-366.88 459.75,-367.56 451.91,-360.43 449.17,-366.88\"/>\n",
       "<polygon fill=\"black\" stroke=\"black\" points=\"349.74,-317.09 339.16,-316.4 347,-323.53 349.74,-317.09\"/>\n",
       "</g>\n",
       "<!-- 2 -->\n",
       "<g id=\"node10\" class=\"node\">\n",
       "<title>2</title>\n",
       "<ellipse fill=\"none\" stroke=\"black\" cx=\"427\" cy=\"-306\" rx=\"27\" ry=\"18\"/>\n",
       "<text text-anchor=\"middle\" x=\"427\" y=\"-302.3\" font-family=\"Times,serif\" font-size=\"14.00\">2</text>\n",
       "</g>\n",
       "<!-- 12&#45;&gt;2 -->\n",
       "<g id=\"edge15\" class=\"edge\">\n",
       "<title>12-&gt;2</title>\n",
       "<path fill=\"none\" stroke=\"black\" d=\"M463.83,-353.87C457.81,-346.21 451.12,-337.69 445.1,-330.04\"/>\n",
       "<polygon fill=\"black\" stroke=\"black\" points=\"461.14,-356.11 470.07,-361.81 466.64,-351.79 461.14,-356.11\"/>\n",
       "<polygon fill=\"black\" stroke=\"black\" points=\"447.84,-327.86 438.91,-322.16 442.34,-332.18 447.84,-327.86\"/>\n",
       "</g>\n",
       "<!-- 3 -->\n",
       "<g id=\"node12\" class=\"node\">\n",
       "<title>3</title>\n",
       "<ellipse fill=\"none\" stroke=\"black\" cx=\"562\" cy=\"-234\" rx=\"27\" ry=\"18\"/>\n",
       "<text text-anchor=\"middle\" x=\"562\" y=\"-230.3\" font-family=\"Times,serif\" font-size=\"14.00\">3</text>\n",
       "</g>\n",
       "<!-- 12&#45;&gt;3 -->\n",
       "<g id=\"edge17\" class=\"edge\">\n",
       "<title>12-&gt;3</title>\n",
       "<path fill=\"none\" stroke=\"black\" d=\"M491.02,-360.99C504.89,-336.38 531.54,-289.06 547.95,-259.94\"/>\n",
       "<polygon fill=\"black\" stroke=\"black\" points=\"551.03,-261.6 552.89,-251.17 544.93,-258.17 551.03,-261.6\"/>\n",
       "</g>\n",
       "<!-- 7 -->\n",
       "<g id=\"node13\" class=\"node\">\n",
       "<title>7</title>\n",
       "<ellipse fill=\"none\" stroke=\"black\" cx=\"786\" cy=\"-162\" rx=\"27\" ry=\"18\"/>\n",
       "<text text-anchor=\"middle\" x=\"786\" y=\"-158.3\" font-family=\"Times,serif\" font-size=\"14.00\">7</text>\n",
       "</g>\n",
       "<!-- 12&#45;&gt;7 -->\n",
       "<g id=\"edge19\" class=\"edge\">\n",
       "<title>12-&gt;7</title>\n",
       "<path fill=\"none\" stroke=\"black\" d=\"M508.39,-358.43C565.97,-317.89 702.36,-221.88 759.79,-181.45\"/>\n",
       "<polygon fill=\"black\" stroke=\"black\" points=\"506.27,-355.64 500.11,-364.25 510.3,-361.36 506.27,-355.64\"/>\n",
       "<polygon fill=\"black\" stroke=\"black\" points=\"761.83,-184.3 767.99,-175.68 757.8,-178.57 761.83,-184.3\"/>\n",
       "</g>\n",
       "<!-- 9 -->\n",
       "<g id=\"node14\" class=\"node\">\n",
       "<title>9</title>\n",
       "<ellipse fill=\"none\" stroke=\"black\" cx=\"486\" cy=\"-90\" rx=\"27\" ry=\"18\"/>\n",
       "<text text-anchor=\"middle\" x=\"486\" y=\"-86.3\" font-family=\"Times,serif\" font-size=\"14.00\">9</text>\n",
       "</g>\n",
       "<!-- 12&#45;&gt;9 -->\n",
       "<g id=\"edge20\" class=\"edge\">\n",
       "<title>12-&gt;9</title>\n",
       "<path fill=\"none\" stroke=\"black\" d=\"M482.38,-349.7C483.14,-295.19 484.85,-173.41 485.61,-118.63\"/>\n",
       "<polygon fill=\"black\" stroke=\"black\" points=\"478.88,-349.92 482.24,-359.97 485.88,-350.02 478.88,-349.92\"/>\n",
       "<polygon fill=\"black\" stroke=\"black\" points=\"489.12,-118.35 485.76,-108.31 482.12,-118.26 489.12,-118.35\"/>\n",
       "</g>\n",
       "<!-- 14&#45;&gt;Y_hat -->\n",
       "<g id=\"edge7\" class=\"edge\">\n",
       "<title>14-&gt;Y_hat</title>\n",
       "<path fill=\"none\" stroke=\"black\" d=\"M130.69,-279.6C131.58,-231.12 140.99,-125.47 203,-72 233.82,-45.43 347.34,-30.02 412.05,-23.22\"/>\n",
       "<ellipse fill=\"none\" stroke=\"black\" cx=\"130.65\" cy=\"-283.69\" rx=\"4\" ry=\"4\"/>\n",
       "<polygon fill=\"black\" stroke=\"black\" points=\"412.79,-26.66 422.38,-22.16 412.07,-19.7 412.79,-26.66\"/>\n",
       "</g>\n",
       "<!-- 14&#45;&gt;5 -->\n",
       "<g id=\"edge18\" class=\"edge\">\n",
       "<title>14-&gt;5</title>\n",
       "<path fill=\"none\" stroke=\"black\" d=\"M147.96,-283.41C154.24,-275.42 161.39,-266.33 167.77,-258.2\"/>\n",
       "<ellipse fill=\"none\" stroke=\"black\" cx=\"145.41\" cy=\"-286.67\" rx=\"4\" ry=\"4\"/>\n",
       "<polygon fill=\"black\" stroke=\"black\" points=\"170.66,-260.18 174.09,-250.16 165.16,-255.86 170.66,-260.18\"/>\n",
       "</g>\n",
       "<!-- 13&#45;&gt;Y_hat -->\n",
       "<g id=\"edge5\" class=\"edge\">\n",
       "<title>13-&gt;Y_hat</title>\n",
       "<path fill=\"none\" stroke=\"black\" d=\"M309.71,-278.26C302.13,-244.72 294.25,-186.47 317,-144 342.27,-96.82 392.84,-58.89 426.04,-37.65\"/>\n",
       "<polygon fill=\"black\" stroke=\"black\" points=\"306.37,-279.34 312.12,-288.23 313.18,-277.69 306.37,-279.34\"/>\n",
       "<polygon fill=\"black\" stroke=\"black\" points=\"428.28,-40.38 434.91,-32.11 424.57,-34.44 428.28,-40.38\"/>\n",
       "</g>\n",
       "<!-- 13&#45;&gt;9 -->\n",
       "<g id=\"edge21\" class=\"edge\">\n",
       "<title>13-&gt;9</title>\n",
       "<path fill=\"none\" stroke=\"black\" d=\"M313.22,-279.55C309.56,-244.91 308.49,-182.79 340,-144 366.66,-111.19 415.42,-98.69 449.22,-93.93\"/>\n",
       "<ellipse fill=\"none\" stroke=\"black\" cx=\"313.71\" cy=\"-283.76\" rx=\"4\" ry=\"4\"/>\n",
       "<polygon fill=\"black\" stroke=\"black\" points=\"449.7,-97.39 459.19,-92.68 448.83,-90.45 449.7,-97.39\"/>\n",
       "</g>\n",
       "<!-- 0 -->\n",
       "<g id=\"node7\" class=\"node\">\n",
       "<title>0</title>\n",
       "<ellipse fill=\"none\" stroke=\"black\" cx=\"427\" cy=\"-522\" rx=\"27\" ry=\"18\"/>\n",
       "<text text-anchor=\"middle\" x=\"427\" y=\"-518.3\" font-family=\"Times,serif\" font-size=\"14.00\">0</text>\n",
       "</g>\n",
       "<!-- 0&#45;&gt;10 -->\n",
       "<g id=\"edge8\" class=\"edge\">\n",
       "<title>0-&gt;10</title>\n",
       "<path fill=\"none\" stroke=\"black\" d=\"M392.58,-511.19C356.47,-500.8 298.09,-483.76 248,-468 241.68,-466.01 234.94,-463.82 228.5,-461.69\"/>\n",
       "<polygon fill=\"black\" stroke=\"black\" points=\"392.02,-514.67 402.6,-514.06 393.95,-507.94 392.02,-514.67\"/>\n",
       "<ellipse fill=\"none\" stroke=\"black\" cx=\"224.35\" cy=\"-460.3\" rx=\"4\" ry=\"4\"/>\n",
       "</g>\n",
       "<!-- 0&#45;&gt;11 -->\n",
       "<g id=\"edge9\" class=\"edge\">\n",
       "<title>0-&gt;11</title>\n",
       "<path fill=\"none\" stroke=\"black\" d=\"M389.9,-519.39C313.45,-515.38 141.72,-502.68 96,-468 75.63,-452.55 65.05,-424.56 59.78,-404.09\"/>\n",
       "<polygon fill=\"black\" stroke=\"black\" points=\"389.87,-522.89 400.03,-519.89 390.22,-515.9 389.87,-522.89\"/>\n",
       "<ellipse fill=\"none\" stroke=\"black\" cx=\"58.81\" cy=\"-400\" rx=\"4\" ry=\"4\"/>\n",
       "</g>\n",
       "<!-- 0&#45;&gt;12 -->\n",
       "<g id=\"edge10\" class=\"edge\">\n",
       "<title>0-&gt;12</title>\n",
       "<path fill=\"none\" stroke=\"black\" d=\"M437.07,-494.99C447.16,-468.96 462.55,-429.21 472.45,-403.66\"/>\n",
       "<polygon fill=\"black\" stroke=\"black\" points=\"433.76,-493.84 433.42,-504.43 440.29,-496.37 433.76,-493.84\"/>\n",
       "<ellipse fill=\"none\" stroke=\"black\" cx=\"474.01\" cy=\"-399.63\" rx=\"4\" ry=\"4\"/>\n",
       "</g>\n",
       "<!-- 0&#45;&gt;14 -->\n",
       "<g id=\"edge13\" class=\"edge\">\n",
       "<title>0-&gt;14</title>\n",
       "<path fill=\"none\" stroke=\"black\" d=\"M389.76,-518.63C324.29,-513.66 192.5,-499.9 161,-468 125.36,-431.91 124.82,-367.95 127.77,-332.47\"/>\n",
       "<polygon fill=\"black\" stroke=\"black\" points=\"389.82,-522.14 400.05,-519.37 390.33,-515.16 389.82,-522.14\"/>\n",
       "<ellipse fill=\"none\" stroke=\"black\" cx=\"128.19\" cy=\"-328.09\" rx=\"4\" ry=\"4\"/>\n",
       "</g>\n",
       "<!-- 0&#45;&gt;13 -->\n",
       "<g id=\"edge11\" class=\"edge\">\n",
       "<title>0-&gt;13</title>\n",
       "<path fill=\"none\" stroke=\"black\" d=\"M413.92,-495.55C392.41,-453.71 349.9,-371 329.07,-330.49\"/>\n",
       "<polygon fill=\"black\" stroke=\"black\" points=\"410.87,-497.27 418.55,-504.56 417.09,-494.07 410.87,-497.27\"/>\n",
       "<ellipse fill=\"none\" stroke=\"black\" cx=\"327.16\" cy=\"-326.76\" rx=\"4\" ry=\"4\"/>\n",
       "</g>\n",
       "<!-- 0&#45;&gt;Y_hat -->\n",
       "<g id=\"edge46\" class=\"edge\">\n",
       "<title>0-&gt;Y_hat</title>\n",
       "<path fill=\"none\" stroke=\"black\" d=\"M389.86,-519.18C308.87,-514.64 119.27,-500.73 65,-468 23.06,-442.7 0,-427.98 0,-379 0,-379 0,-379 0,-161 0,-106.3 36.35,-97 85,-72 141.65,-42.88 328,-27.39 413.91,-21.65\"/>\n",
       "<polygon fill=\"black\" stroke=\"black\" points=\"389.92,-522.69 400.09,-519.74 390.3,-515.7 389.92,-522.69\"/>\n",
       "<ellipse fill=\"none\" stroke=\"black\" cx=\"418.16\" cy=\"-21.37\" rx=\"4\" ry=\"4\"/>\n",
       "</g>\n",
       "<!-- 1 -->\n",
       "<g id=\"node8\" class=\"node\">\n",
       "<title>1</title>\n",
       "<ellipse fill=\"none\" stroke=\"black\" cx=\"537\" cy=\"-450\" rx=\"27\" ry=\"18\"/>\n",
       "<text text-anchor=\"middle\" x=\"537\" y=\"-446.3\" font-family=\"Times,serif\" font-size=\"14.00\">1</text>\n",
       "</g>\n",
       "<!-- 0&#45;&gt;1 -->\n",
       "<g id=\"edge22\" class=\"edge\">\n",
       "<title>0-&gt;1</title>\n",
       "<path fill=\"none\" stroke=\"black\" d=\"M454.76,-503.34C472.07,-492.32 494.2,-478.24 511.14,-467.45\"/>\n",
       "<polygon fill=\"black\" stroke=\"black\" points=\"452.72,-500.49 446.16,-508.81 456.48,-506.39 452.72,-500.49\"/>\n",
       "<ellipse fill=\"none\" stroke=\"black\" cx=\"514.68\" cy=\"-465.2\" rx=\"4\" ry=\"4\"/>\n",
       "</g>\n",
       "<!-- 0&#45;&gt;4 -->\n",
       "<g id=\"edge26\" class=\"edge\">\n",
       "<title>0-&gt;4</title>\n",
       "<path fill=\"none\" stroke=\"black\" d=\"M421.23,-493.73C413.39,-455.82 399.39,-384.97 391,-324 384.46,-276.46 379.96,-220.63 377.7,-188.77\"/>\n",
       "<polygon fill=\"black\" stroke=\"black\" points=\"417.9,-494.88 423.36,-503.95 424.75,-493.45 417.9,-494.88\"/>\n",
       "<ellipse fill=\"none\" stroke=\"black\" cx=\"377.4\" cy=\"-184.44\" rx=\"4\" ry=\"4\"/>\n",
       "</g>\n",
       "<!-- 0&#45;&gt;2 -->\n",
       "<g id=\"edge23\" class=\"edge\">\n",
       "<title>0-&gt;2</title>\n",
       "<path fill=\"none\" stroke=\"black\" d=\"M427,-493.71C427,-451.95 427,-372.78 427,-332.26\"/>\n",
       "<polygon fill=\"black\" stroke=\"black\" points=\"423.5,-493.85 427,-503.85 430.5,-493.85 423.5,-493.85\"/>\n",
       "<ellipse fill=\"none\" stroke=\"black\" cx=\"427\" cy=\"-328.23\" rx=\"4\" ry=\"4\"/>\n",
       "</g>\n",
       "<!-- 0&#45;&gt;5 -->\n",
       "<g id=\"edge28\" class=\"edge\">\n",
       "<title>0-&gt;5</title>\n",
       "<path fill=\"none\" stroke=\"black\" d=\"M395.55,-507.03C377.07,-497.78 354.06,-484.34 337,-468 269.88,-403.69 218.2,-304.05 196.78,-258.8\"/>\n",
       "<polygon fill=\"black\" stroke=\"black\" points=\"394.22,-510.28 404.74,-511.49 397.27,-503.98 394.22,-510.28\"/>\n",
       "<ellipse fill=\"none\" stroke=\"black\" cx=\"195.07\" cy=\"-255.14\" rx=\"4\" ry=\"4\"/>\n",
       "</g>\n",
       "<!-- 0&#45;&gt;3 -->\n",
       "<g id=\"edge24\" class=\"edge\">\n",
       "<title>0-&gt;3</title>\n",
       "<path fill=\"none\" stroke=\"black\" d=\"M464.26,-518.96C498.86,-514.85 548.6,-502.82 573,-468 617.73,-404.18 588.99,-304.64 571.97,-259.15\"/>\n",
       "<polygon fill=\"black\" stroke=\"black\" points=\"463.65,-515.5 454.05,-520 464.36,-522.47 463.65,-515.5\"/>\n",
       "<ellipse fill=\"none\" stroke=\"black\" cx=\"570.48\" cy=\"-255.29\" rx=\"4\" ry=\"4\"/>\n",
       "</g>\n",
       "<!-- 0&#45;&gt;7 -->\n",
       "<g id=\"edge32\" class=\"edge\">\n",
       "<title>0-&gt;7</title>\n",
       "<path fill=\"none\" stroke=\"black\" d=\"M464.14,-518.49C536,-513 690.78,-497.98 734,-468 771.64,-441.89 786,-424.81 786,-379 786,-379 786,-379 786,-305 786,-264.11 786,-216.61 786,-188.22\"/>\n",
       "<polygon fill=\"black\" stroke=\"black\" points=\"463.47,-515.03 453.76,-519.26 463.99,-522.01 463.47,-515.03\"/>\n",
       "<ellipse fill=\"none\" stroke=\"black\" cx=\"786\" cy=\"-184.05\" rx=\"4\" ry=\"4\"/>\n",
       "</g>\n",
       "<!-- 0&#45;&gt;9 -->\n",
       "<g id=\"edge36\" class=\"edge\">\n",
       "<title>0-&gt;9</title>\n",
       "<path fill=\"none\" stroke=\"black\" d=\"M464.38,-519.72C502.81,-516.31 561.62,-504.9 595,-468 616.93,-443.76 606.65,-428.51 610,-396 615.82,-339.49 604.05,-231.69 598,-216 580.42,-170.38 537.78,-130.87 510.47,-109.05\"/>\n",
       "<polygon fill=\"black\" stroke=\"black\" points=\"463.83,-516.25 454.11,-520.48 464.35,-523.23 463.83,-516.25\"/>\n",
       "<ellipse fill=\"none\" stroke=\"black\" cx=\"507.04\" cy=\"-106.36\" rx=\"4\" ry=\"4\"/>\n",
       "</g>\n",
       "<!-- 6 -->\n",
       "<g id=\"node15\" class=\"node\">\n",
       "<title>6</title>\n",
       "<ellipse fill=\"none\" stroke=\"black\" cx=\"841\" cy=\"-234\" rx=\"27\" ry=\"18\"/>\n",
       "<text text-anchor=\"middle\" x=\"841\" y=\"-230.3\" font-family=\"Times,serif\" font-size=\"14.00\">6</text>\n",
       "</g>\n",
       "<!-- 0&#45;&gt;6 -->\n",
       "<g id=\"edge30\" class=\"edge\">\n",
       "<title>0-&gt;6</title>\n",
       "<path fill=\"none\" stroke=\"black\" d=\"M464.22,-521.05C548.98,-520.34 752.67,-513.8 800,-468 857.09,-412.77 851.32,-308.02 845.09,-260.08\"/>\n",
       "<polygon fill=\"black\" stroke=\"black\" points=\"464,-517.55 454.02,-521.11 464.04,-524.55 464,-517.55\"/>\n",
       "<ellipse fill=\"none\" stroke=\"black\" cx=\"844.52\" cy=\"-256.05\" rx=\"4\" ry=\"4\"/>\n",
       "</g>\n",
       "<!-- 8 -->\n",
       "<g id=\"node16\" class=\"node\">\n",
       "<title>8</title>\n",
       "<ellipse fill=\"none\" stroke=\"black\" cx=\"714\" cy=\"-162\" rx=\"27\" ry=\"18\"/>\n",
       "<text text-anchor=\"middle\" x=\"714\" y=\"-158.3\" font-family=\"Times,serif\" font-size=\"14.00\">8</text>\n",
       "</g>\n",
       "<!-- 0&#45;&gt;8 -->\n",
       "<g id=\"edge35\" class=\"edge\">\n",
       "<title>0-&gt;8</title>\n",
       "<path fill=\"none\" stroke=\"black\" d=\"M463.87,-517.94C530.09,-511.79 665.75,-496.1 703,-468 738.39,-441.31 748,-423.32 748,-379 748,-379 748,-379 748,-305 748,-262.78 733.61,-215.39 723.55,-187.43\"/>\n",
       "<polygon fill=\"black\" stroke=\"black\" points=\"463.51,-514.46 453.86,-518.84 464.14,-521.43 463.51,-514.46\"/>\n",
       "<ellipse fill=\"none\" stroke=\"black\" cx=\"722.1\" cy=\"-183.49\" rx=\"4\" ry=\"4\"/>\n",
       "</g>\n",
       "<!-- 1&#45;&gt;12 -->\n",
       "<g id=\"edge12\" class=\"edge\">\n",
       "<title>1-&gt;12</title>\n",
       "<path fill=\"none\" stroke=\"black\" d=\"M518.83,-425.87C512.81,-418.21 506.12,-409.69 500.1,-402.04\"/>\n",
       "<polygon fill=\"black\" stroke=\"black\" points=\"516.14,-428.11 525.07,-433.81 521.64,-423.79 516.14,-428.11\"/>\n",
       "<polygon fill=\"black\" stroke=\"black\" points=\"502.84,-399.86 493.91,-394.16 497.34,-404.18 502.84,-399.86\"/>\n",
       "</g>\n",
       "<!-- 1&#45;&gt;Y_hat -->\n",
       "<g id=\"edge44\" class=\"edge\">\n",
       "<title>1-&gt;Y_hat</title>\n",
       "<path fill=\"none\" stroke=\"black\" d=\"M550.49,-423.86C571.62,-381.55 609.03,-293.19 598,-216 588.33,-148.33 589.28,-123.2 544,-72 530.28,-56.48 510.91,-44 494.02,-35.06\"/>\n",
       "<polygon fill=\"black\" stroke=\"black\" points=\"547.32,-422.38 545.88,-432.88 553.55,-425.57 547.32,-422.38\"/>\n",
       "<polygon fill=\"black\" stroke=\"black\" points=\"495.45,-31.86 484.95,-30.46 492.29,-38.1 495.45,-31.86\"/>\n",
       "</g>\n",
       "<!-- 1&#45;&gt;2 -->\n",
       "<g id=\"edge25\" class=\"edge\">\n",
       "<title>1-&gt;2</title>\n",
       "<path fill=\"none\" stroke=\"black\" d=\"M536.96,-423.71C535.74,-404.58 531.42,-378.53 518,-360 503.81,-340.4 479.97,-326.9 460.25,-318.44\"/>\n",
       "<ellipse fill=\"none\" stroke=\"black\" cx=\"537.14\" cy=\"-427.96\" rx=\"4\" ry=\"4\"/>\n",
       "<polygon fill=\"black\" stroke=\"black\" points=\"461.54,-315.18 450.96,-314.68 458.92,-321.67 461.54,-315.18\"/>\n",
       "</g>\n",
       "<!-- 1&#45;&gt;3 -->\n",
       "<g id=\"edge27\" class=\"edge\">\n",
       "<title>1-&gt;3</title>\n",
       "<path fill=\"none\" stroke=\"black\" d=\"M540.19,-421.71C544.98,-380.65 554.01,-303.42 558.81,-262.33\"/>\n",
       "<polygon fill=\"black\" stroke=\"black\" points=\"536.69,-421.51 539,-431.85 543.64,-422.32 536.69,-421.51\"/>\n",
       "<polygon fill=\"black\" stroke=\"black\" points=\"562.3,-262.57 559.99,-252.23 555.35,-261.76 562.3,-262.57\"/>\n",
       "</g>\n",
       "<!-- 4&#45;&gt;9 -->\n",
       "<g id=\"edge40\" class=\"edge\">\n",
       "<title>4-&gt;9</title>\n",
       "<path fill=\"none\" stroke=\"black\" d=\"M403.76,-143.34C420.45,-132.71 441.63,-119.24 458.31,-108.62\"/>\n",
       "<polygon fill=\"black\" stroke=\"black\" points=\"401.72,-140.49 395.16,-148.81 405.48,-146.39 401.72,-140.49\"/>\n",
       "<polygon fill=\"black\" stroke=\"black\" points=\"460.5,-111.37 467.06,-103.05 456.74,-105.47 460.5,-111.37\"/>\n",
       "</g>\n",
       "<!-- 2&#45;&gt;Y_hat -->\n",
       "<g id=\"edge45\" class=\"edge\">\n",
       "<title>2-&gt;Y_hat</title>\n",
       "<path fill=\"none\" stroke=\"black\" d=\"M429.22,-277.95C432.88,-234.47 440.72,-146.37 450,-72 451.05,-63.56 452.37,-54.39 453.64,-46.09\"/>\n",
       "<polygon fill=\"black\" stroke=\"black\" points=\"425.72,-277.75 428.38,-288.01 432.7,-278.34 425.72,-277.75\"/>\n",
       "<polygon fill=\"black\" stroke=\"black\" points=\"457.1,-46.57 455.18,-36.15 450.19,-45.5 457.1,-46.57\"/>\n",
       "</g>\n",
       "<!-- 2&#45;&gt;4 -->\n",
       "<g id=\"edge31\" class=\"edge\">\n",
       "<title>2-&gt;4</title>\n",
       "<path fill=\"none\" stroke=\"black\" d=\"M417.66,-278.99C408.51,-253.53 394.65,-214.92 385.46,-189.34\"/>\n",
       "<polygon fill=\"black\" stroke=\"black\" points=\"414.38,-280.2 421.05,-288.43 420.96,-277.84 414.38,-280.2\"/>\n",
       "<polygon fill=\"black\" stroke=\"black\" points=\"388.74,-188.13 382.07,-179.9 382.16,-190.5 388.74,-188.13\"/>\n",
       "</g>\n",
       "<!-- 2&#45;&gt;5 -->\n",
       "<g id=\"edge34\" class=\"edge\">\n",
       "<title>2-&gt;5</title>\n",
       "<path fill=\"none\" stroke=\"black\" d=\"M392.69,-295.03C346.84,-281.72 266.09,-258.26 220.27,-244.95\"/>\n",
       "<polygon fill=\"black\" stroke=\"black\" points=\"391.99,-298.47 402.57,-297.9 393.94,-291.75 391.99,-298.47\"/>\n",
       "<polygon fill=\"black\" stroke=\"black\" points=\"221.08,-241.54 210.5,-242.12 219.13,-248.27 221.08,-241.54\"/>\n",
       "</g>\n",
       "<!-- 2&#45;&gt;3 -->\n",
       "<g id=\"edge29\" class=\"edge\">\n",
       "<title>2-&gt;3</title>\n",
       "<path fill=\"none\" stroke=\"black\" d=\"M456.72,-289.59C479.19,-277.94 509.88,-262.02 532.33,-250.38\"/>\n",
       "<polygon fill=\"black\" stroke=\"black\" points=\"455.06,-286.51 447.8,-294.22 458.29,-292.72 455.06,-286.51\"/>\n",
       "<polygon fill=\"black\" stroke=\"black\" points=\"534.13,-253.39 541.4,-245.68 530.91,-247.18 534.13,-253.39\"/>\n",
       "</g>\n",
       "<!-- 2&#45;&gt;9 -->\n",
       "<g id=\"edge37\" class=\"edge\">\n",
       "<title>2-&gt;9</title>\n",
       "<path fill=\"none\" stroke=\"black\" d=\"M436.3,-278.95C439.23,-270.41 442.38,-260.84 445,-252 458.86,-205.29 472.28,-150.13 479.8,-118.01\"/>\n",
       "<polygon fill=\"black\" stroke=\"black\" points=\"432.99,-277.8 433.01,-288.4 439.6,-280.1 432.99,-277.8\"/>\n",
       "<polygon fill=\"black\" stroke=\"black\" points=\"483.27,-118.57 482.12,-108.04 476.45,-116.99 483.27,-118.57\"/>\n",
       "</g>\n",
       "<!-- 5&#45;&gt;Y_hat -->\n",
       "<g id=\"edge47\" class=\"edge\">\n",
       "<title>5-&gt;Y_hat</title>\n",
       "<path fill=\"none\" stroke=\"black\" d=\"M185.64,-205.62C186.73,-169.72 194.24,-107.2 231,-72 256.71,-47.38 354.3,-31.57 412.82,-24.08\"/>\n",
       "<polygon fill=\"black\" stroke=\"black\" points=\"182.14,-205.79 185.48,-215.84 189.14,-205.9 182.14,-205.79\"/>\n",
       "<polygon fill=\"black\" stroke=\"black\" points=\"413.43,-27.54 422.92,-22.83 412.56,-20.59 413.43,-27.54\"/>\n",
       "</g>\n",
       "<!-- 5&#45;&gt;7 -->\n",
       "<g id=\"edge38\" class=\"edge\">\n",
       "<title>5-&gt;7</title>\n",
       "<path fill=\"none\" stroke=\"black\" d=\"M223.29,-231.18C332.48,-225.6 650.06,-207.38 750,-180 751.95,-179.47 753.92,-178.83 755.89,-178.13\"/>\n",
       "<polygon fill=\"black\" stroke=\"black\" points=\"222.9,-227.7 213.09,-231.7 223.26,-234.69 222.9,-227.7\"/>\n",
       "<polygon fill=\"black\" stroke=\"black\" points=\"757.62,-181.2 765.53,-174.16 754.95,-174.73 757.62,-181.2\"/>\n",
       "</g>\n",
       "<!-- 5&#45;&gt;9 -->\n",
       "<g id=\"edge42\" class=\"edge\">\n",
       "<title>5-&gt;9</title>\n",
       "<path fill=\"none\" stroke=\"black\" d=\"M208.86,-212.38C232.08,-192.4 269.81,-162.47 307,-144 354.09,-120.61 413.39,-105.58 450.51,-97.71\"/>\n",
       "<polygon fill=\"black\" stroke=\"black\" points=\"206.51,-209.79 201.28,-219 211.11,-215.06 206.51,-209.79\"/>\n",
       "<polygon fill=\"black\" stroke=\"black\" points=\"451.28,-101.12 460.36,-95.68 449.86,-94.27 451.28,-101.12\"/>\n",
       "</g>\n",
       "<!-- 3&#45;&gt;Y_hat -->\n",
       "<g id=\"edge49\" class=\"edge\">\n",
       "<title>3-&gt;Y_hat</title>\n",
       "<path fill=\"none\" stroke=\"black\" d=\"M560.67,-205.42C557.86,-171.47 549.12,-113.26 522,-72 513.39,-58.9 500.57,-47.38 488.65,-38.45\"/>\n",
       "<polygon fill=\"black\" stroke=\"black\" points=\"557.19,-205.81 561.39,-215.53 564.17,-205.31 557.19,-205.81\"/>\n",
       "<polygon fill=\"black\" stroke=\"black\" points=\"490.38,-35.38 480.21,-32.42 486.31,-41.08 490.38,-35.38\"/>\n",
       "</g>\n",
       "<!-- 3&#45;&gt;4 -->\n",
       "<g id=\"edge33\" class=\"edge\">\n",
       "<title>3-&gt;4</title>\n",
       "<path fill=\"none\" stroke=\"black\" d=\"M529.38,-220.72C495.34,-207.91 442.28,-187.94 408.34,-175.17\"/>\n",
       "<polygon fill=\"black\" stroke=\"black\" points=\"528.23,-224.03 538.82,-224.28 530.69,-217.48 528.23,-224.03\"/>\n",
       "<polygon fill=\"black\" stroke=\"black\" points=\"409.48,-171.86 398.89,-171.61 407.02,-178.41 409.48,-171.86\"/>\n",
       "</g>\n",
       "<!-- 3&#45;&gt;9 -->\n",
       "<g id=\"edge39\" class=\"edge\">\n",
       "<title>3-&gt;9</title>\n",
       "<path fill=\"none\" stroke=\"black\" d=\"M551.38,-207.26C543.63,-189.2 532.51,-164.7 521,-144 515.61,-134.32 509.06,-124.07 503.09,-115.19\"/>\n",
       "<polygon fill=\"black\" stroke=\"black\" points=\"548.19,-208.71 555.31,-216.56 554.64,-205.98 548.19,-208.71\"/>\n",
       "<polygon fill=\"black\" stroke=\"black\" points=\"505.91,-113.12 497.38,-106.84 500.14,-117.07 505.91,-113.12\"/>\n",
       "</g>\n",
       "<!-- 7&#45;&gt;Y_hat -->\n",
       "<g id=\"edge51\" class=\"edge\">\n",
       "<title>7-&gt;Y_hat</title>\n",
       "<path fill=\"none\" stroke=\"black\" d=\"M769.16,-137.21C753.38,-116.75 727.93,-88.05 699,-72 637.15,-37.68 554.82,-25.58 504.16,-21.32\"/>\n",
       "<polygon fill=\"black\" stroke=\"black\" points=\"766.51,-139.52 775.31,-145.42 772.11,-135.32 766.51,-139.52\"/>\n",
       "<polygon fill=\"black\" stroke=\"black\" points=\"504.4,-17.83 494.16,-20.54 503.86,-24.81 504.4,-17.83\"/>\n",
       "</g>\n",
       "<!-- 9&#45;&gt;Y_hat -->\n",
       "<g id=\"edge50\" class=\"edge\">\n",
       "<title>9-&gt;Y_hat</title>\n",
       "<path fill=\"none\" stroke=\"black\" d=\"M475.62,-63.06C473.3,-57.26 470.84,-51.1 468.52,-45.29\"/>\n",
       "<polygon fill=\"black\" stroke=\"black\" points=\"472.4,-64.43 479.36,-72.41 478.9,-61.83 472.4,-64.43\"/>\n",
       "<polygon fill=\"black\" stroke=\"black\" points=\"471.75,-43.94 464.78,-35.96 465.25,-46.54 471.75,-43.94\"/>\n",
       "</g>\n",
       "<!-- 6&#45;&gt;Y_hat -->\n",
       "<g id=\"edge48\" class=\"edge\">\n",
       "<title>6-&gt;Y_hat</title>\n",
       "<path fill=\"none\" stroke=\"black\" d=\"M839.81,-205.56C837.93,-187.03 833.3,-162.64 822,-144 795.98,-101.08 780.41,-93.39 735,-72 659.32,-36.35 561.26,-24.68 504.42,-20.86\"/>\n",
       "<polygon fill=\"black\" stroke=\"black\" points=\"836.34,-206.02 840.63,-215.71 843.31,-205.46 836.34,-206.02\"/>\n",
       "<polygon fill=\"black\" stroke=\"black\" points=\"504.49,-17.36 494.3,-20.23 504.06,-24.34 504.49,-17.36\"/>\n",
       "</g>\n",
       "<!-- 6&#45;&gt;7 -->\n",
       "<g id=\"edge41\" class=\"edge\">\n",
       "<title>6-&gt;7</title>\n",
       "<path fill=\"none\" stroke=\"black\" d=\"M822.83,-209.87C814.63,-199.44 805.19,-187.42 797.91,-178.16\"/>\n",
       "<polygon fill=\"black\" stroke=\"black\" points=\"820.14,-212.11 829.07,-217.81 825.64,-207.79 820.14,-212.11\"/>\n",
       "</g>\n",
       "<!-- 8&#45;&gt;Y_hat -->\n",
       "<g id=\"edge52\" class=\"edge\">\n",
       "<title>8-&gt;Y_hat</title>\n",
       "<path fill=\"none\" stroke=\"black\" d=\"M708.79,-135.98C703.29,-115.8 692.6,-88.19 673,-72 625.09,-32.43 551.97,-21.7 504.57,-19.16\"/>\n",
       "<ellipse fill=\"none\" stroke=\"black\" cx=\"709.8\" cy=\"-139.97\" rx=\"4\" ry=\"4\"/>\n",
       "<polygon fill=\"black\" stroke=\"black\" points=\"504.71,-15.67 494.57,-18.73 504.41,-22.66 504.71,-15.67\"/>\n",
       "</g>\n",
       "<!-- 8&#45;&gt;9 -->\n",
       "<g id=\"edge43\" class=\"edge\">\n",
       "<title>8-&gt;9</title>\n",
       "<path fill=\"none\" stroke=\"black\" d=\"M682.14,-151.22C639.26,-138.06 563.34,-114.75 519.6,-101.31\"/>\n",
       "<ellipse fill=\"none\" stroke=\"black\" cx=\"686.21\" cy=\"-152.47\" rx=\"4\" ry=\"4\"/>\n",
       "<polygon fill=\"black\" stroke=\"black\" points=\"520.58,-97.95 509.99,-98.37 518.52,-104.65 520.58,-97.95\"/>\n",
       "</g>\n",
       "</g>\n",
       "</svg>"
      ],
      "text/plain": [
       "<IPython.core.display.SVG object>"
      ]
     },
     "execution_count": 8,
     "metadata": {},
     "output_type": "execute_result"
    }
   ],
   "source": [
    "import pydot\n",
    "from IPython.display import SVG\n",
    "\n",
    "dot_str = pc.tetradGraphToDot(tetrad.getTetradGraph())\n",
    "graphs = pydot.graph_from_dot_data(dot_str)\n",
    "svg_str = graphs[0].create_svg()\n",
    "SVG(svg_str)"
   ]
  },
  {
   "cell_type": "code",
   "execution_count": null,
   "metadata": {},
   "outputs": [],
   "source": [
    "X_train.shape"
   ]
  },
  {
   "cell_type": "code",
   "execution_count": null,
   "metadata": {},
   "outputs": [],
   "source": [
    "Y_hat"
   ]
  },
  {
   "cell_type": "code",
   "execution_count": null,
   "metadata": {},
   "outputs": [],
   "source": [
    "Y_hat = model.predict_proba(X_train)"
   ]
  },
  {
   "cell_type": "code",
   "execution_count": null,
   "metadata": {},
   "outputs": [],
   "source": [
    "len(Y_hat)"
   ]
  },
  {
   "cell_type": "code",
   "execution_count": null,
   "metadata": {},
   "outputs": [],
   "source": [
    "## Let's get the accuracy\n",
    "acc = np.sum(Y_train == Y_hat)/len(Y_train)\n",
    "acc"
   ]
  }
 ],
 "metadata": {
  "kernelspec": {
   "display_name": "Python 3.8",
   "language": "python",
   "name": "python3"
  },
  "language_info": {
   "codemirror_mode": {
    "name": "ipython",
    "version": 3
   },
   "file_extension": ".py",
   "mimetype": "text/x-python",
   "name": "python",
   "nbconvert_exporter": "python",
   "pygments_lexer": "ipython3",
   "version": "3.8.3"
  }
 },
 "nbformat": 4,
 "nbformat_minor": 4
}
