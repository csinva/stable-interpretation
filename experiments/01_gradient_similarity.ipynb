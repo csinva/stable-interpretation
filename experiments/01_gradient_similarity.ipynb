{
 "cells": [
  {
   "cell_type": "code",
   "execution_count": 1,
   "metadata": {},
   "outputs": [],
   "source": [
    "%load_ext autoreload\n",
    "%autoreload 2\n",
    "\n",
    "import os\n",
    "from os.path import join as oj\n",
    "import sys\n",
    "import numpy as np\n",
    "from tqdm import tqdm\n",
    "from copy import deepcopy\n",
    "import pickle as pkl\n",
    "import torchvision.datasets as dset\n",
    "import torchvision.transforms as transforms\n",
    "import torch\n",
    "import torchvision.models as models\n",
    "import matplotlib.pyplot as plt\n",
    "sys.path.append('..')\n",
    "import src.transforms\n",
    "import src.viz as viz\n",
    "from src.config import DIR_IMAGENET_DATA\n",
    "import src.attributions"
   ]
  },
  {
   "cell_type": "markdown",
   "metadata": {},
   "source": [
    "# load data + models"
   ]
  },
  {
   "cell_type": "code",
   "execution_count": 2,
   "metadata": {},
   "outputs": [],
   "source": [
    "device = 'cuda'\n",
    "\n",
    "# load models\n",
    "pre = True\n",
    "m1 = models.alexnet(pretrained=pre).eval().to(device)\n",
    "m2 = models.vgg11(pretrained=pre).eval().to(device)\n",
    "m3 = models.resnet18(pretrained=pre).eval().to(device)\n",
    "m4 = models.densenet121(pretrained=pre).eval().to(device)\n",
    "m5 = models.googlenet(pretrained=pre).eval().to(device)\n",
    "ms = [m1, m2] #, m3, m4, m5]\n",
    "names = ['alexnet', 'vgg11', 'resnet18', 'densenet121', 'googlenet']"
   ]
  },
  {
   "cell_type": "code",
   "execution_count": 3,
   "metadata": {},
   "outputs": [],
   "source": [
    "# load data\n",
    "dset_name = 'val/val' # train or val/val\n",
    "dset_val = dset.ImageFolder(oj(DIR_IMAGENET_DATA, dset_name), \n",
    "                            transforms.Compose([transforms.Resize(256),\n",
    "                                                transforms.CenterCrop(224),\n",
    "                                                transforms.ToTensor(),\n",
    "                                                src.transforms.normalize]))"
   ]
  },
  {
   "cell_type": "markdown",
   "metadata": {},
   "source": [
    "# make preds"
   ]
  },
  {
   "cell_type": "code",
   "execution_count": 13,
   "metadata": {},
   "outputs": [
    {
     "name": "stderr",
     "output_type": "stream",
     "text": [
      "100%|██████████| 100/100 [00:05<00:00, 18.02it/s]\n"
     ]
    },
    {
     "data": {
      "image/png": "[encoded data removed]",
      "text/plain": [
       "<Figure size 432x288 with 1 Axes>"
      ]
     },
     "metadata": {
      "needs_background": "light"
     },
     "output_type": "display_data"
    }
   ],
   "source": [
    "n = 100\n",
    "preds1 = np.zeros((n, 1000))\n",
    "preds2 = np.zeros((n, 1000))\n",
    "labs = np.zeros(n)\n",
    "for i in tqdm(range(n)):\n",
    "    idx = np.random.randint(0, 50000)\n",
    "    x = dset_val[idx][0].unsqueeze(0).to(device)\n",
    "    labs[i] = dset_val[idx][1]\n",
    "    preds1[i] = m1(x).softmax(dim=1).detach().cpu().flatten()\n",
    "    preds2[i] = m2(x).softmax(dim=1).detach().cpu().flatten()\n",
    "plt.loglog(preds1[:, 0], preds2[:, 0], '.')\n",
    "plt.xlabel('model 1 preds')\n",
    "plt.ylabel('model 2 preds')\n",
    "plt.show()"
   ]
  },
  {
   "cell_type": "markdown",
   "metadata": {},
   "source": [
    "# look at attributions"
   ]
  },
  {
   "cell_type": "code",
   "execution_count": null,
   "metadata": {},
   "outputs": [],
   "source": [
    "class_num = 0 # class for interpretation\n",
    "\n",
    "# pick an image\n",
    "idx = 0 #np.random.randint(0, 50000)\n",
    "im = dset_val[idx][0].unsqueeze(0).to(device)\n",
    "lab = dset_val[idx][1]\n",
    "\n",
    "attrs = {\n",
    "    k: [] for k in ['CD'] #['Gradient', 'InputXGradient', 'IG', 'SHAP']\n",
    "}\n",
    "for m in ms:\n",
    "    for k in attrs.keys():\n",
    "        x = deepcopy(im)\n",
    "        attr = src.attributions.get_attributions(x, m,\n",
    "                                                 class_num=class_num,\n",
    "                                                 sweep_dim=7,\n",
    "                                                 attr_methods=[k], device=device)[k]\n",
    "        attrs[k].append(attr)"
   ]
  },
  {
   "cell_type": "code",
   "execution_count": null,
   "metadata": {},
   "outputs": [],
   "source": [
    "for k in attrs.keys():\n",
    "    viz.plot_row(attrs[k], normalize=True, annot_list=names, ylab=k)\n",
    "    viz.savefig(f'attrs_{k}')"
   ]
  },
  {
   "cell_type": "code",
   "execution_count": null,
   "metadata": {},
   "outputs": [],
   "source": []
  }
 ],
 "metadata": {
  "kernelspec": {
   "display_name": "Python 3",
   "language": "python",
   "name": "python3"
  },
  "language_info": {
   "codemirror_mode": {
    "name": "ipython",
    "version": 3
   },
   "file_extension": ".py",
   "mimetype": "text/x-python",
   "name": "python",
   "nbconvert_exporter": "python",
   "pygments_lexer": "ipython3",
   "version": "3.7.5"
  }
 },
 "nbformat": 4,
 "nbformat_minor": 4
}
