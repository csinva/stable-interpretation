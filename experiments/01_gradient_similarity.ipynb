{
 "cells": [
  {
   "cell_type": "code",
   "execution_count": 20,
   "metadata": {},
   "outputs": [
    {
     "name": "stdout",
     "output_type": "stream",
     "text": [
      "The autoreload extension is already loaded. To reload it, use:\n",
      "  %reload_ext autoreload\n"
     ]
    }
   ],
   "source": [
    "%load_ext autoreload\n",
    "%autoreload 2\n",
    "\n",
    "import os\n",
    "from os.path import join as oj\n",
    "import sys\n",
    "import numpy as np\n",
    "from tqdm import tqdm\n",
    "from copy import deepcopy\n",
    "import pickle as pkl\n",
    "import torchvision.datasets as dset\n",
    "import torchvision.transforms as transforms\n",
    "import torch\n",
    "import torchvision.models as models\n",
    "import matplotlib.pyplot as plt\n",
    "sys.path.append('..')\n",
    "import src.transforms\n",
    "from src.config import DIR_IMAGENET_DATA"
   ]
  },
  {
   "cell_type": "markdown",
   "metadata": {},
   "source": [
    "# load data + models"
   ]
  },
  {
   "cell_type": "code",
   "execution_count": 11,
   "metadata": {},
   "outputs": [],
   "source": [
    "device = 'cuda'\n",
    "\n",
    "# load models\n",
    "m1 = models.alexnet(pretrained=True).eval().to(device)\n",
    "m2 = models.resnet18(pretrained=True).eval().to(device)\n",
    "\n",
    "# load data\n",
    "dset_name = 'val/val' # train or val/val\n",
    "dset_val = dset.ImageFolder(oj(DIR_IMAGENET_DIR, dset_name), \n",
    "                            transforms.Compose([transforms.Resize(256),\n",
    "                                                transforms.CenterCrop(224),\n",
    "                                                transforms.ToTensor(),\n",
    "                                                src.transforms.normalize]))"
   ]
  },
  {
   "cell_type": "markdown",
   "metadata": {},
   "source": [
    "# make preds"
   ]
  },
  {
   "cell_type": "code",
   "execution_count": 19,
   "metadata": {},
   "outputs": [
    {
     "name": "stderr",
     "output_type": "stream",
     "text": [
      "100%|██████████| 100/100 [00:13<00:00,  7.13it/s]\n"
     ]
    }
   ],
   "source": [
    "n = 100\n",
    "\n",
    "# get preds\n",
    "preds1 = np.zeros((n, 1000))\n",
    "preds2 = np.zeros((n, 1000))\n",
    "labs = np.zeros(n)\n",
    "for i in tqdm(range(n)):\n",
    "    idx = np.random.randint(0, 50000)\n",
    "    x = dset_val[idx][0].unsqueeze(0).to(device)\n",
    "    labs[i] = dset_val[idx][1]\n",
    "    pred1 = m1(x).detach().cpu()\n",
    "    pred2 = m2(x).detach().cpu()\n",
    "    preds1[i] = pred1.flatten()\n",
    "    preds2[i] = pred2.flatten()"
   ]
  }
 ],
 "metadata": {
  "kernelspec": {
   "display_name": "Python 3",
   "language": "python",
   "name": "python3"
  },
  "language_info": {
   "codemirror_mode": {
    "name": "ipython",
    "version": 3
   },
   "file_extension": ".py",
   "mimetype": "text/x-python",
   "name": "python",
   "nbconvert_exporter": "python",
   "pygments_lexer": "ipython3",
   "version": "3.7.5"
  }
 },
 "nbformat": 4,
 "nbformat_minor": 4
}
